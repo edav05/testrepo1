{
 "cells": [
  {
   "cell_type": "markdown",
   "id": "9c2a0550-124c-486e-a024-4049eef05f07",
   "metadata": {},
   "source": [
    "\n",
    "# Data Science Tools and Ecosystem"
   ]
  },
  {
   "cell_type": "markdown",
   "id": "29f61b6c-59c4-4e6f-b846-e58aa19bb4af",
   "metadata": {},
   "source": [
    "\n",
    " In this notebook, Data Science Tools and Ecosystem are summarized."
   ]
  },
  {
   "cell_type": "markdown",
   "id": "5511ffc0-78fd-4b01-8ea3-9df173128780",
   "metadata": {},
   "source": [
    "\n",
    "Some of the popular languages that Data Scientist use are:\n",
    "1. JavaScript\n",
    "2. C++\n",
    "3. Python\n",
    "4. R\n",
    "5. C"
   ]
  },
  {
   "cell_type": "markdown",
   "id": "698f37f2-4519-416c-8b6b-70d63aa4652c",
   "metadata": {
    "tags": []
   },
   "source": [
    "Some of the commonly used libraries used by Data Scientists include:\n"
   ]
  },
  {
   "cell_type": "markdown",
   "id": "30933541-8ca6-48e4-a60c-2a0a988eb7a1",
   "metadata": {},
   "source": [
    "1. Pandas\n",
    "2. NumPy\n",
    "3. Scikit-Learn\n",
    "4. Matplotlib\n",
    "5. Seaborn"
   ]
  },
  {
   "cell_type": "markdown",
   "id": "5083a674-0f6b-4835-b9d8-94149bc6c3ac",
   "metadata": {},
   "source": [
    "|Data Science Tools|\n",
    "|------|\n",
    "|TensorFlow|\n",
    "|Apache Spark|\n",
    "|RStudio|"
   ]
  },
  {
   "cell_type": "markdown",
   "id": "de9a4d5f-193e-411e-ae86-50b5e5255fd9",
   "metadata": {},
   "source": [
    "\n",
    "### Below are a few examples of evaluating arithmetic experissions in Python.\n"
   ]
  },
  {
   "cell_type": "markdown",
   "id": "86928e66-cdae-4c13-8c33-8bbc115760b0",
   "metadata": {},
   "source": [
    "This is a simple arithmetic expression to multiply then add integers."
   ]
  },
  {
   "cell_type": "markdown",
   "id": "eba34df6-eb46-4ec2-ae55-be4ff4fae5e5",
   "metadata": {},
   "source": [
    "(3*4)+5"
   ]
  },
  {
   "cell_type": "markdown",
   "id": "64a3883d-de06-44fd-ae2b-6bfd05b024b1",
   "metadata": {},
   "source": [
    "17"
   ]
  },
  {
   "cell_type": "markdown",
   "id": "71924107-3c74-4239-9fee-74335816118e",
   "metadata": {},
   "source": [
    "This will convert 200 minutes to hours by dividing by 60."
   ]
  },
  {
   "cell_type": "markdown",
   "id": "fa81701c-cb74-4cdd-a7e1-fc510dd38a69",
   "metadata": {},
   "source": [
    "minutes = 200\n",
    "\n",
    "hours = 60\n",
    "\n",
    "minutes/hours"
   ]
  },
  {
   "cell_type": "markdown",
   "id": "f1709a9f-fd2d-46cd-8695-1f1ee7736a9a",
   "metadata": {},
   "source": [
    "3.33333333"
   ]
  },
  {
   "cell_type": "markdown",
   "id": "9f056ade-c438-4371-9397-7862c06ab141",
   "metadata": {},
   "source": [
    "**Objectives:**"
   ]
  },
  {
   "cell_type": "markdown",
   "id": "25b72c26-eb9e-42e1-a5a1-2063b0b37caf",
   "metadata": {},
   "source": [
    "- Python\n",
    "- R\n",
    "- SQL\n",
    "- Java\n",
    "- Scala"
   ]
  },
  {
   "cell_type": "markdown",
   "id": "6c99c2f6-41fb-4e11-8018-25bad0b02ee7",
   "metadata": {},
   "source": [
    "## Author"
   ]
  },
  {
   "cell_type": "markdown",
   "id": "8683d936-b973-4dc7-be07-3d3791281222",
   "metadata": {},
   "source": [
    "Ebony Davis"
   ]
  },
  {
   "cell_type": "code",
   "execution_count": null,
   "id": "ceed450d-8efb-4031-bcfd-f08858b00d93",
   "metadata": {},
   "outputs": [],
   "source": []
  }
 ],
 "metadata": {
  "kernelspec": {
   "display_name": "Python",
   "language": "python",
   "name": "conda-env-python-py"
  },
  "language_info": {
   "codemirror_mode": {
    "name": "ipython",
    "version": 3
   },
   "file_extension": ".py",
   "mimetype": "text/x-python",
   "name": "python",
   "nbconvert_exporter": "python",
   "pygments_lexer": "ipython3",
   "version": "3.7.12"
  }
 },
 "nbformat": 4,
 "nbformat_minor": 5
}
